{
 "cells": [
  {
   "cell_type": "code",
   "execution_count": 1,
   "metadata": {},
   "outputs": [],
   "source": [
    "import asyncio\n",
    "\n",
    "import y_py as Y\n",
    "from websockets import connect\n",
    "from ypy_websocket import WebsocketProvider"
   ]
  },
  {
   "cell_type": "code",
   "execution_count": 2,
   "metadata": {},
   "outputs": [],
   "source": [
    "doc = None\n",
    "test = None\n",
    "idTest = None\n",
    "\n",
    "def callbackArray(event):\n",
    "    print(\"OBSERVER:\", event.delta)"
   ]
  },
  {
   "cell_type": "code",
   "execution_count": 3,
   "metadata": {},
   "outputs": [
    {
     "data": {
      "text/plain": [
       "<ypy_websocket.websocket_provider.WebsocketProvider at 0x7f766528ac50>"
      ]
     },
     "execution_count": 3,
     "metadata": {},
     "output_type": "execute_result"
    }
   ],
   "source": [
    "doc = Y.YDoc()\n",
    "test = doc.get_array('test')\n",
    "idTest = test.observe(callbackArray)\n",
    "\n",
    "ws = await connect(\"ws://localhost:8888/rtc_yjs_test\")\n",
    "WebsocketProvider(doc, ws)"
   ]
  },
  {
   "cell_type": "code",
   "execution_count": 5,
   "metadata": {},
   "outputs": [
    {
     "name": "stdout",
     "output_type": "stream",
     "text": [
      "OBSERVER: [{'insert': [0.0, 1.0, 2.0, 3.0, 4.0, 5.0, 6.0]}]\n"
     ]
    }
   ],
   "source": [
    "doc.transact(lambda t: test.insert_range(t, 0, [0,1,2,3,4,5,6]))"
   ]
  },
  {
   "cell_type": "code",
   "execution_count": 6,
   "metadata": {},
   "outputs": [
    {
     "name": "stdout",
     "output_type": "stream",
     "text": [
      "OBSERVER: [{'delete': 1}, {'retain': 1}, {'insert': [0.0]}]\n"
     ]
    }
   ],
   "source": [
    "doc.transact(lambda t: test.move_to(t, 0, 2))"
   ]
  },
  {
   "cell_type": "code",
   "execution_count": 7,
   "metadata": {},
   "outputs": [
    {
     "name": "stdout",
     "output_type": "stream",
     "text": [
      "[1.0, 0.0, 2.0, 3.0, 4.0, 5.0, 6.0]\n",
      "OBSERVER: [{'retain': 2}, {'insert': [2.0]}]\n"
     ]
    }
   ],
   "source": [
    "print(test)"
   ]
  },
  {
   "cell_type": "code",
   "execution_count": null,
   "metadata": {},
   "outputs": [],
   "source": []
  },
  {
   "cell_type": "code",
   "execution_count": null,
   "metadata": {},
   "outputs": [],
   "source": [
    "test.unobserve(idTest)"
   ]
  }
 ],
 "metadata": {
  "kernelspec": {
   "display_name": "Python 3 (ipykernel)",
   "language": "python",
   "name": "python3"
  },
  "language_info": {
   "codemirror_mode": {
    "name": "ipython",
    "version": 3
   },
   "file_extension": ".py",
   "mimetype": "text/x-python",
   "name": "python",
   "nbconvert_exporter": "python",
   "pygments_lexer": "ipython3",
   "version": "3.10.6"
  },
  "vscode": {
   "interpreter": {
    "hash": "e7370f93d1d0cde622a1f8e1c04877d8463912d04d973331ad4851f04de6915a"
   }
  }
 },
 "nbformat": 4,
 "nbformat_minor": 4
}
