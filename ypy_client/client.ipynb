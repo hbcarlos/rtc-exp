{
 "cells": [
  {
   "cell_type": "code",
   "execution_count": 1,
   "metadata": {},
   "outputs": [],
   "source": [
    "import asyncio\n",
    "import y_py as Y\n",
    "from websockets import connect\n",
    "from ypy_websocket import WebsocketProvider\n",
    "\n",
    "def callbackArray(event):\n",
    "    print(\"OBSERVER:\", event.delta)"
   ]
  },
  {
   "cell_type": "code",
   "execution_count": 2,
   "metadata": {},
   "outputs": [],
   "source": [
    "doc = Y.YDoc()\n",
    "test = doc.get_array('test')\n",
    "idTest = test.observe(callbackArray)"
   ]
  },
  {
   "cell_type": "code",
   "execution_count": 3,
   "metadata": {},
   "outputs": [
    {
     "data": {
      "text/plain": [
       "<ypy_websocket.websocket_provider.WebsocketProvider at 0x1128dd310>"
      ]
     },
     "execution_count": 3,
     "metadata": {},
     "output_type": "execute_result"
    },
    {
     "name": "stdout",
     "output_type": "stream",
     "text": [
      "[WebsocketProvider._run]\n",
      "[WebsocketProvider] process_sync_message: SYNC_STEP1 b'\\x12\\x03\\xa5\\xb7\\xca\\xd8\\x0e\\x06\\x8b\\xe9\\xc3\\xdf\\x04\\x04\\xd7\\xbf\\xbeN\\x02'\n",
      "[WebsocketProvider] process_sync_message: SYNC_STEP2 b'\\x94\\x01\\x03\\x04\\xa5\\xb7\\xca\\xd8\\x0e\\x00\\x08\\x01\\x04test\\x01}\\x00\\x88\\xa5\\xb7\\xca\\xd8\\x0e\\x00\\x01}\\x01\\x88\\xa5\\xb7\\xca\\xd8\\x0e\\x01\\x03}\\x02}\\x03}\\x04\\xc1\\xa5\\xb7\\xca\\xd8\\x0e\\x01\\xa5\\xb7\\xca\\xd8\\x0e\\x02\\x01\\x03\\x8b\\xe9\\xc3\\xdf\\x04\\x00\\xc1\\xa5\\xb7\\xca\\xd8\\x0e\\x00\\xa5\\xb7\\xca\\xd8\\x0e\\x01\\x01\\xc1\\xa5\\xb7\\xca\\xd8\\x0e\\x05\\xa5\\xb7\\xca\\xd8\\x0e\\x02\\x01\\xc1\\xd7\\xbf\\xbeN\\x01\\xa5\\xb7\\xca\\xd8\\x0e\\x02\\x02\\x01\\xd7\\xbf\\xbeN\\x00\\xc1\\x8b\\xe9\\xc3\\xdf\\x04\\x01\\xa5\\xb7\\xca\\xd8\\x0e\\x02\\x02\\x03\\xa5\\xb7\\xca\\xd8\\x0e\\x01\\x05\\x01\\x8b\\xe9\\xc3\\xdf\\x04\\x01\\x00\\x04\\xd7\\xbf\\xbeN\\x01\\x00\\x02'\n",
      "OBSERVER: [{'insert': [0.0, 1.0, 2.0, 3.0, 4.0]}]\n",
      "[WebsocketProvider] process_sync_message: SYNC_UPDATE b'\\x1d\\x01\\x01\\x8b\\xe9\\xc3\\xdf\\x04\\x04\\xcb\\x8b\\xe9\\xc3\\xdf\\x04\\x03\\xa5\\xb7\\xca\\xd8\\x0e\\x02C\\xa5\\xb7\\xca\\xd8\\x0e\\x00\\x00'\n",
      "OBSERVER: [{'retain': 1}, {'insert': [1.0]}]\n",
      "[WebsocketProvider] process_sync_message: SYNC_UPDATE b'\\n\\x00\\x01\\x8b\\xe9\\xc3\\xdf\\x04\\x01\\x04\\x01'\n"
     ]
    }
   ],
   "source": [
    "ws = await connect(\"ws://localhost:8889/rtc_yjs_test\")\n",
    "WebsocketProvider(doc, ws)"
   ]
  },
  {
   "cell_type": "code",
   "execution_count": null,
   "metadata": {},
   "outputs": [],
   "source": [
    "doc.transact(lambda t: test.insert_range(t, 0, [0,1,2,3,4]))"
   ]
  },
  {
   "cell_type": "code",
   "execution_count": null,
   "metadata": {},
   "outputs": [],
   "source": [
    "doc.transact(lambda t: test.move_to(t, 0, 2))"
   ]
  },
  {
   "cell_type": "code",
   "execution_count": null,
   "metadata": {},
   "outputs": [],
   "source": []
  },
  {
   "cell_type": "code",
   "execution_count": 4,
   "metadata": {},
   "outputs": [
    {
     "name": "stdout",
     "output_type": "stream",
     "text": [
      "[0.0, 1.0, 2.0, 3.0, 4.0]\n",
      "[WebsocketProvider] process_sync_message: SYNC_UPDATE b'\\x17\\x01\\x01\\x8b\\xe9\\xc3\\xdf\\x04\\x05K\\xa5\\xb7\\xca\\xd8\\x0e\\x00C\\xa5\\xb7\\xca\\xd8\\x0e\\x01\\x00'\n",
      "OBSERVER: [{'insert': [2.0, 3.0, 4.0]}]\n"
     ]
    }
   ],
   "source": [
    "print(test)"
   ]
  },
  {
   "cell_type": "code",
   "execution_count": null,
   "metadata": {},
   "outputs": [],
   "source": []
  },
  {
   "cell_type": "code",
   "execution_count": null,
   "metadata": {},
   "outputs": [],
   "source": [
    "test.unobserve(idTest)"
   ]
  }
 ],
 "metadata": {
  "kernelspec": {
   "display_name": "Python 3 (ipykernel)",
   "language": "python",
   "name": "python3"
  },
  "language_info": {
   "codemirror_mode": {
    "name": "ipython",
    "version": 3
   },
   "file_extension": ".py",
   "mimetype": "text/x-python",
   "name": "python",
   "nbconvert_exporter": "python",
   "pygments_lexer": "ipython3",
   "version": "3.11.0"
  },
  "vscode": {
   "interpreter": {
    "hash": "e7370f93d1d0cde622a1f8e1c04877d8463912d04d973331ad4851f04de6915a"
   }
  }
 },
 "nbformat": 4,
 "nbformat_minor": 4
}
